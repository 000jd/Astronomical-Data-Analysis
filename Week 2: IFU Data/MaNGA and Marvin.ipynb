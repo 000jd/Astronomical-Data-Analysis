{
 "cells": [
  {
   "cell_type": "code",
   "execution_count": 2,
   "id": "b7442b14",
   "metadata": {},
   "outputs": [
    {
     "name": "stdout",
     "output_type": "stream",
     "text": [
      "Requirement already satisfied: sdss-marvin in /home/joydip/anaconda3/lib/python3.9/site-packages (2.8.0)\n",
      "Requirement already satisfied: numpy>1.20 in /home/joydip/anaconda3/lib/python3.9/site-packages (from sdss-marvin) (1.21.5)\n",
      "Requirement already satisfied: astropy>=5.1 in /home/joydip/anaconda3/lib/python3.9/site-packages (from sdss-marvin) (5.1)\n",
      "Requirement already satisfied: sdss-tree>=3.1.0 in /home/joydip/anaconda3/lib/python3.9/site-packages (from sdss-marvin) (3.1.5)\n",
      "Requirement already satisfied: marvin-wtforms-alchemy>=0.18.0 in /home/joydip/anaconda3/lib/python3.9/site-packages (from sdss-marvin) (0.18.0)\n",
      "Requirement already satisfied: marvin-brain>=0.3 in /home/joydip/anaconda3/lib/python3.9/site-packages (from sdss-marvin) (0.3.0)\n",
      "Requirement already satisfied: marvin-sqlalchemy-boolean-search>=0.2 in /home/joydip/anaconda3/lib/python3.9/site-packages (from sdss-marvin) (0.2.2)\n",
      "Requirement already satisfied: yamlordereddictloader>=0.2.2 in /home/joydip/anaconda3/lib/python3.9/site-packages (from sdss-marvin) (0.4.0)\n",
      "Requirement already satisfied: pandas>=1.0 in /home/joydip/anaconda3/lib/python3.9/site-packages (from sdss-marvin) (1.4.4)\n",
      "Requirement already satisfied: matplotlib>=1.5.3 in /home/joydip/anaconda3/lib/python3.9/site-packages (from sdss-marvin) (3.5.2)\n",
      "Requirement already satisfied: python-Levenshtein>=0.12.0 in /home/joydip/anaconda3/lib/python3.9/site-packages (from sdss-marvin) (0.20.9)\n",
      "Requirement already satisfied: raven<7.0,>=5.32.0 in /home/joydip/anaconda3/lib/python3.9/site-packages (from sdss-marvin) (6.10.0)\n",
      "Requirement already satisfied: packaging<21.0,>=20.1 in /home/joydip/anaconda3/lib/python3.9/site-packages (from sdss-marvin) (20.9)\n",
      "Requirement already satisfied: dogpile.cache<1.1,>=0.6.2 in /home/joydip/anaconda3/lib/python3.9/site-packages (from sdss-marvin) (1.0.2)\n",
      "Requirement already satisfied: numpyencoder>=0.3 in /home/joydip/anaconda3/lib/python3.9/site-packages (from sdss-marvin) (0.3.0)\n",
      "Requirement already satisfied: fuzzywuzzy>=0.15.0 in /home/joydip/anaconda3/lib/python3.9/site-packages (from sdss-marvin) (0.18.0)\n",
      "Requirement already satisfied: scipy>=0.18.1 in /home/joydip/anaconda3/lib/python3.9/site-packages (from sdss-marvin) (1.9.1)\n",
      "Requirement already satisfied: sdsstools>=0.4 in /home/joydip/anaconda3/lib/python3.9/site-packages (from sdss-marvin) (1.0.2)\n",
      "Requirement already satisfied: webargs<6.0,>=1.5.2 in /home/joydip/anaconda3/lib/python3.9/site-packages (from sdss-marvin) (5.5.3)\n",
      "Requirement already satisfied: werkzeug<2.1,>=2.0 in /home/joydip/anaconda3/lib/python3.9/site-packages (from sdss-marvin) (2.0.3)\n",
      "Requirement already satisfied: Flask-JWT-Extended<4.0,>=3.8.1 in /home/joydip/anaconda3/lib/python3.9/site-packages (from sdss-marvin) (3.25.1)\n",
      "Requirement already satisfied: sdss-access>=2.0 in /home/joydip/anaconda3/lib/python3.9/site-packages (from sdss-marvin) (2.0.5)\n",
      "Requirement already satisfied: PyYAML>=3.13 in /home/joydip/anaconda3/lib/python3.9/site-packages (from astropy>=5.1->sdss-marvin) (6.0)\n",
      "Requirement already satisfied: pyerfa>=2.0 in /home/joydip/anaconda3/lib/python3.9/site-packages (from astropy>=5.1->sdss-marvin) (2.0.0)\n",
      "Requirement already satisfied: decorator>=4.0.0 in /home/joydip/anaconda3/lib/python3.9/site-packages (from dogpile.cache<1.1,>=0.6.2->sdss-marvin) (5.1.1)\n",
      "Requirement already satisfied: stevedore>=3.0.0 in /home/joydip/anaconda3/lib/python3.9/site-packages (from dogpile.cache<1.1,>=0.6.2->sdss-marvin) (5.0.0)\n",
      "Requirement already satisfied: Flask<2.0,>=1.0 in /home/joydip/anaconda3/lib/python3.9/site-packages (from Flask-JWT-Extended<4.0,>=3.8.1->sdss-marvin) (1.1.2)\n",
      "Requirement already satisfied: six in /home/joydip/anaconda3/lib/python3.9/site-packages (from Flask-JWT-Extended<4.0,>=3.8.1->sdss-marvin) (1.16.0)\n",
      "Requirement already satisfied: PyJWT<2.0,>=1.6.4 in /home/joydip/anaconda3/lib/python3.9/site-packages (from Flask-JWT-Extended<4.0,>=3.8.1->sdss-marvin) (1.7.1)\n",
      "Requirement already satisfied: flask-classful>=0.14.2 in /home/joydip/anaconda3/lib/python3.9/site-packages (from marvin-brain>=0.3->sdss-marvin) (0.14.2)\n",
      "Requirement already satisfied: networkx>=2.5 in /home/joydip/anaconda3/lib/python3.9/site-packages (from marvin-brain>=0.3->sdss-marvin) (2.8.4)\n",
      "Requirement already satisfied: passlib>=1.7.1 in /home/joydip/anaconda3/lib/python3.9/site-packages (from marvin-brain>=0.3->sdss-marvin) (1.7.4)\n",
      "Requirement already satisfied: sqlalchemy>=1.3 in /home/joydip/anaconda3/lib/python3.9/site-packages (from marvin-brain>=0.3->sdss-marvin) (1.3.24)\n",
      "Requirement already satisfied: requests>=2.23.0 in /home/joydip/anaconda3/lib/python3.9/site-packages (from marvin-brain>=0.3->sdss-marvin) (2.28.1)\n",
      "Requirement already satisfied: pyparsing<3.0,>=2.4 in /home/joydip/anaconda3/lib/python3.9/site-packages (from marvin-sqlalchemy-boolean-search>=0.2->sdss-marvin) (2.4.7)\n",
      "Requirement already satisfied: WTForms-Components>=0.9.2 in /home/joydip/anaconda3/lib/python3.9/site-packages (from marvin-wtforms-alchemy>=0.18.0->sdss-marvin) (0.10.5)\n",
      "Requirement already satisfied: SQLAlchemy-Utils>=0.32.6 in /home/joydip/anaconda3/lib/python3.9/site-packages (from marvin-wtforms-alchemy>=0.18.0->sdss-marvin) (0.40.0)\n",
      "Requirement already satisfied: WTForms>=2.2 in /home/joydip/anaconda3/lib/python3.9/site-packages (from marvin-wtforms-alchemy>=0.18.0->sdss-marvin) (3.0.1)\n",
      "Requirement already satisfied: cycler>=0.10 in /home/joydip/anaconda3/lib/python3.9/site-packages (from matplotlib>=1.5.3->sdss-marvin) (0.11.0)\n",
      "Requirement already satisfied: fonttools>=4.22.0 in /home/joydip/anaconda3/lib/python3.9/site-packages (from matplotlib>=1.5.3->sdss-marvin) (4.25.0)\n",
      "Requirement already satisfied: python-dateutil>=2.7 in /home/joydip/anaconda3/lib/python3.9/site-packages (from matplotlib>=1.5.3->sdss-marvin) (2.8.2)\n",
      "Requirement already satisfied: kiwisolver>=1.0.1 in /home/joydip/anaconda3/lib/python3.9/site-packages (from matplotlib>=1.5.3->sdss-marvin) (1.4.2)\n",
      "Requirement already satisfied: pillow>=6.2.0 in /home/joydip/anaconda3/lib/python3.9/site-packages (from matplotlib>=1.5.3->sdss-marvin) (9.2.0)\n",
      "Requirement already satisfied: pytz>=2020.1 in /home/joydip/anaconda3/lib/python3.9/site-packages (from pandas>=1.0->sdss-marvin) (2022.1)\n",
      "Requirement already satisfied: Levenshtein==0.20.9 in /home/joydip/anaconda3/lib/python3.9/site-packages (from python-Levenshtein>=0.12.0->sdss-marvin) (0.20.9)\n",
      "Requirement already satisfied: rapidfuzz<3.0.0,>=2.3.0 in /home/joydip/anaconda3/lib/python3.9/site-packages (from Levenshtein==0.20.9->python-Levenshtein>=0.12.0->sdss-marvin) (2.13.7)\n",
      "Requirement already satisfied: tqdm>=4.46.0 in /home/joydip/anaconda3/lib/python3.9/site-packages (from sdss-access>=2.0->sdss-marvin) (4.64.1)\n",
      "Requirement already satisfied: pygments>=2.6 in /home/joydip/anaconda3/lib/python3.9/site-packages (from sdss-tree>=3.1.0->sdss-marvin) (2.11.2)\n",
      "Requirement already satisfied: configparser>=3.5.0 in /home/joydip/anaconda3/lib/python3.9/site-packages (from sdss-tree>=3.1.0->sdss-marvin) (5.3.0)\n",
      "Requirement already satisfied: invoke<2.0.0,>=1.3.0 in /home/joydip/anaconda3/lib/python3.9/site-packages (from sdsstools>=0.4->sdss-marvin) (1.7.3)\n",
      "Requirement already satisfied: daemonocle<2.0.0,>=1.0.2 in /home/joydip/anaconda3/lib/python3.9/site-packages (from sdsstools>=0.4->sdss-marvin) (1.2.3)\n",
      "Requirement already satisfied: marshmallow>=2.15.2 in /home/joydip/anaconda3/lib/python3.9/site-packages (from webargs<6.0,>=1.5.2->sdss-marvin) (3.19.0)\n",
      "Requirement already satisfied: psutil in /home/joydip/anaconda3/lib/python3.9/site-packages (from daemonocle<2.0.0,>=1.0.2->sdsstools>=0.4->sdss-marvin) (5.9.0)\n",
      "Requirement already satisfied: click in /home/joydip/anaconda3/lib/python3.9/site-packages (from daemonocle<2.0.0,>=1.0.2->sdsstools>=0.4->sdss-marvin) (8.0.4)\n",
      "Requirement already satisfied: Jinja2>=2.10.1 in /home/joydip/anaconda3/lib/python3.9/site-packages (from Flask<2.0,>=1.0->Flask-JWT-Extended<4.0,>=3.8.1->sdss-marvin) (2.11.3)\n",
      "Requirement already satisfied: itsdangerous>=0.24 in /home/joydip/anaconda3/lib/python3.9/site-packages (from Flask<2.0,>=1.0->Flask-JWT-Extended<4.0,>=3.8.1->sdss-marvin) (2.0.1)\n",
      "Requirement already satisfied: urllib3<1.27,>=1.21.1 in /home/joydip/anaconda3/lib/python3.9/site-packages (from requests>=2.23.0->marvin-brain>=0.3->sdss-marvin) (1.26.11)\n",
      "Requirement already satisfied: idna<4,>=2.5 in /home/joydip/anaconda3/lib/python3.9/site-packages (from requests>=2.23.0->marvin-brain>=0.3->sdss-marvin) (3.3)\n",
      "Requirement already satisfied: charset-normalizer<3,>=2 in /home/joydip/anaconda3/lib/python3.9/site-packages (from requests>=2.23.0->marvin-brain>=0.3->sdss-marvin) (2.0.4)\n",
      "Requirement already satisfied: certifi>=2017.4.17 in /home/joydip/anaconda3/lib/python3.9/site-packages (from requests>=2.23.0->marvin-brain>=0.3->sdss-marvin) (2022.9.14)\n"
     ]
    },
    {
     "name": "stdout",
     "output_type": "stream",
     "text": [
      "Requirement already satisfied: pbr!=2.1.0,>=2.0.0 in /home/joydip/anaconda3/lib/python3.9/site-packages (from stevedore>=3.0.0->dogpile.cache<1.1,>=0.6.2->sdss-marvin) (5.11.1)\n",
      "Requirement already satisfied: MarkupSafe in /home/joydip/anaconda3/lib/python3.9/site-packages (from WTForms>=2.2->marvin-wtforms-alchemy>=0.18.0->sdss-marvin) (2.0.1)\n",
      "Requirement already satisfied: intervals>=0.6.0 in /home/joydip/anaconda3/lib/python3.9/site-packages (from WTForms-Components>=0.9.2->marvin-wtforms-alchemy>=0.18.0->sdss-marvin) (0.9.2)\n",
      "Requirement already satisfied: email-validator>=1.0.0 in /home/joydip/anaconda3/lib/python3.9/site-packages (from WTForms-Components>=0.9.2->marvin-wtforms-alchemy>=0.18.0->sdss-marvin) (1.3.1)\n",
      "Requirement already satisfied: validators>=0.5.0 in /home/joydip/anaconda3/lib/python3.9/site-packages (from WTForms-Components>=0.9.2->marvin-wtforms-alchemy>=0.18.0->sdss-marvin) (0.20.0)\n",
      "Requirement already satisfied: dnspython>=1.15.0 in /home/joydip/anaconda3/lib/python3.9/site-packages (from email-validator>=1.0.0->WTForms-Components>=0.9.2->marvin-wtforms-alchemy>=0.18.0->sdss-marvin) (2.3.0)\n",
      "Requirement already satisfied: infinity>=0.1.3 in /home/joydip/anaconda3/lib/python3.9/site-packages (from intervals>=0.6.0->WTForms-Components>=0.9.2->marvin-wtforms-alchemy>=0.18.0->sdss-marvin) (1.5)\n"
     ]
    }
   ],
   "source": [
    "!pip install sdss-marvin"
   ]
  },
  {
   "cell_type": "code",
   "execution_count": null,
   "id": "a922b627",
   "metadata": {},
   "outputs": [],
   "source": []
  }
 ],
 "metadata": {
  "kernelspec": {
   "display_name": "Python 3 (ipykernel)",
   "language": "python",
   "name": "python3"
  },
  "language_info": {
   "codemirror_mode": {
    "name": "ipython",
    "version": 3
   },
   "file_extension": ".py",
   "mimetype": "text/x-python",
   "name": "python",
   "nbconvert_exporter": "python",
   "pygments_lexer": "ipython3",
   "version": "3.9.13"
  }
 },
 "nbformat": 4,
 "nbformat_minor": 5
}
